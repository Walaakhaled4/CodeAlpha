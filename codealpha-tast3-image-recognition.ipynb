{
 "cells": [
  {
   "cell_type": "markdown",
   "metadata": {},
   "source": [
    "# CNN "
   ]
  },
  {
   "cell_type": "code",
   "execution_count": 1,
   "metadata": {
    "_cell_guid": "b1076dfc-b9ad-4769-8c92-a6c4dae69d19",
    "_uuid": "8f2839f25d086af736a60e9eeb907d3b93b6e0e5",
    "execution": {
     "iopub.execute_input": "2023-10-05T05:43:17.077798Z",
     "iopub.status.busy": "2023-10-05T05:43:17.076975Z",
     "iopub.status.idle": "2023-10-05T05:43:26.457246Z",
     "shell.execute_reply": "2023-10-05T05:43:26.456070Z",
     "shell.execute_reply.started": "2023-10-05T05:43:17.077664Z"
    }
   },
   "outputs": [],
   "source": [
    "# for numbers\n",
    "import numpy as np\n",
    "import pandas as pd\n",
    "# for plotting\n",
    "import matplotlib.pyplot as plt\n",
    "import seaborn as sns\n",
    "from sklearn.metrics import confusion_matrix\n",
    "\n",
    "\n",
    "# for PCA\n",
    "from sklearn.decomposition import PCA\n",
    "# for split the data on train and test\n",
    "from sklearn.model_selection import train_test_split\n",
    "\n",
    "# all for the model\n",
    "from tensorflow import keras\n",
    "from tensorflow.keras import layers, Sequential\n",
    "from tensorflow.keras.callbacks import EarlyStopping\n",
    "\n",
    "path = '../input/chinese-mnist-digit-recognizer/chineseMNIST.csv'"
   ]
  },
  {
   "cell_type": "code",
   "execution_count": 2,
   "metadata": {
    "execution": {
     "iopub.execute_input": "2023-10-05T05:43:26.459329Z",
     "iopub.status.busy": "2023-10-05T05:43:26.458930Z",
     "iopub.status.idle": "2023-10-05T05:43:38.441151Z",
     "shell.execute_reply": "2023-10-05T05:43:38.439986Z",
     "shell.execute_reply.started": "2023-10-05T05:43:26.459287Z"
    }
   },
   "outputs": [
    {
     "name": "stdout",
     "output_type": "stream",
     "text": [
      "(15000, 4098)\n"
     ]
    },
    {
     "data": {
      "text/html": [
       "<div>\n",
       "<style scoped>\n",
       "    .dataframe tbody tr th:only-of-type {\n",
       "        vertical-align: middle;\n",
       "    }\n",
       "\n",
       "    .dataframe tbody tr th {\n",
       "        vertical-align: top;\n",
       "    }\n",
       "\n",
       "    .dataframe thead th {\n",
       "        text-align: right;\n",
       "    }\n",
       "</style>\n",
       "<table border=\"1\" class=\"dataframe\">\n",
       "  <thead>\n",
       "    <tr style=\"text-align: right;\">\n",
       "      <th></th>\n",
       "      <th>pixel_0</th>\n",
       "      <th>pixel_1</th>\n",
       "      <th>pixel_2</th>\n",
       "      <th>pixel_3</th>\n",
       "      <th>pixel_4</th>\n",
       "      <th>pixel_5</th>\n",
       "      <th>pixel_6</th>\n",
       "      <th>pixel_7</th>\n",
       "      <th>pixel_8</th>\n",
       "      <th>pixel_9</th>\n",
       "      <th>...</th>\n",
       "      <th>pixel_4088</th>\n",
       "      <th>pixel_4089</th>\n",
       "      <th>pixel_4090</th>\n",
       "      <th>pixel_4091</th>\n",
       "      <th>pixel_4092</th>\n",
       "      <th>pixel_4093</th>\n",
       "      <th>pixel_4094</th>\n",
       "      <th>pixel_4095</th>\n",
       "      <th>label</th>\n",
       "      <th>character</th>\n",
       "    </tr>\n",
       "  </thead>\n",
       "  <tbody>\n",
       "    <tr>\n",
       "      <th>0</th>\n",
       "      <td>0</td>\n",
       "      <td>0</td>\n",
       "      <td>0</td>\n",
       "      <td>0</td>\n",
       "      <td>0</td>\n",
       "      <td>0</td>\n",
       "      <td>0</td>\n",
       "      <td>0</td>\n",
       "      <td>0</td>\n",
       "      <td>0</td>\n",
       "      <td>...</td>\n",
       "      <td>0</td>\n",
       "      <td>0</td>\n",
       "      <td>0</td>\n",
       "      <td>0</td>\n",
       "      <td>0</td>\n",
       "      <td>0</td>\n",
       "      <td>0</td>\n",
       "      <td>0</td>\n",
       "      <td>9</td>\n",
       "      <td>九</td>\n",
       "    </tr>\n",
       "    <tr>\n",
       "      <th>1</th>\n",
       "      <td>0</td>\n",
       "      <td>0</td>\n",
       "      <td>0</td>\n",
       "      <td>0</td>\n",
       "      <td>0</td>\n",
       "      <td>0</td>\n",
       "      <td>0</td>\n",
       "      <td>0</td>\n",
       "      <td>0</td>\n",
       "      <td>0</td>\n",
       "      <td>...</td>\n",
       "      <td>0</td>\n",
       "      <td>0</td>\n",
       "      <td>0</td>\n",
       "      <td>0</td>\n",
       "      <td>0</td>\n",
       "      <td>0</td>\n",
       "      <td>0</td>\n",
       "      <td>0</td>\n",
       "      <td>9</td>\n",
       "      <td>九</td>\n",
       "    </tr>\n",
       "    <tr>\n",
       "      <th>2</th>\n",
       "      <td>0</td>\n",
       "      <td>0</td>\n",
       "      <td>0</td>\n",
       "      <td>0</td>\n",
       "      <td>0</td>\n",
       "      <td>0</td>\n",
       "      <td>0</td>\n",
       "      <td>0</td>\n",
       "      <td>0</td>\n",
       "      <td>0</td>\n",
       "      <td>...</td>\n",
       "      <td>0</td>\n",
       "      <td>0</td>\n",
       "      <td>0</td>\n",
       "      <td>0</td>\n",
       "      <td>0</td>\n",
       "      <td>0</td>\n",
       "      <td>0</td>\n",
       "      <td>0</td>\n",
       "      <td>9</td>\n",
       "      <td>九</td>\n",
       "    </tr>\n",
       "    <tr>\n",
       "      <th>3</th>\n",
       "      <td>0</td>\n",
       "      <td>0</td>\n",
       "      <td>0</td>\n",
       "      <td>0</td>\n",
       "      <td>0</td>\n",
       "      <td>0</td>\n",
       "      <td>0</td>\n",
       "      <td>0</td>\n",
       "      <td>0</td>\n",
       "      <td>0</td>\n",
       "      <td>...</td>\n",
       "      <td>0</td>\n",
       "      <td>0</td>\n",
       "      <td>0</td>\n",
       "      <td>0</td>\n",
       "      <td>0</td>\n",
       "      <td>0</td>\n",
       "      <td>0</td>\n",
       "      <td>0</td>\n",
       "      <td>9</td>\n",
       "      <td>九</td>\n",
       "    </tr>\n",
       "    <tr>\n",
       "      <th>4</th>\n",
       "      <td>0</td>\n",
       "      <td>0</td>\n",
       "      <td>0</td>\n",
       "      <td>0</td>\n",
       "      <td>0</td>\n",
       "      <td>0</td>\n",
       "      <td>0</td>\n",
       "      <td>0</td>\n",
       "      <td>0</td>\n",
       "      <td>0</td>\n",
       "      <td>...</td>\n",
       "      <td>0</td>\n",
       "      <td>0</td>\n",
       "      <td>0</td>\n",
       "      <td>0</td>\n",
       "      <td>0</td>\n",
       "      <td>0</td>\n",
       "      <td>0</td>\n",
       "      <td>0</td>\n",
       "      <td>9</td>\n",
       "      <td>九</td>\n",
       "    </tr>\n",
       "  </tbody>\n",
       "</table>\n",
       "<p>5 rows × 4098 columns</p>\n",
       "</div>"
      ],
      "text/plain": [
       "   pixel_0  pixel_1  pixel_2  pixel_3  pixel_4  pixel_5  pixel_6  pixel_7  \\\n",
       "0        0        0        0        0        0        0        0        0   \n",
       "1        0        0        0        0        0        0        0        0   \n",
       "2        0        0        0        0        0        0        0        0   \n",
       "3        0        0        0        0        0        0        0        0   \n",
       "4        0        0        0        0        0        0        0        0   \n",
       "\n",
       "   pixel_8  pixel_9  ...  pixel_4088  pixel_4089  pixel_4090  pixel_4091  \\\n",
       "0        0        0  ...           0           0           0           0   \n",
       "1        0        0  ...           0           0           0           0   \n",
       "2        0        0  ...           0           0           0           0   \n",
       "3        0        0  ...           0           0           0           0   \n",
       "4        0        0  ...           0           0           0           0   \n",
       "\n",
       "   pixel_4092  pixel_4093  pixel_4094  pixel_4095  label  character  \n",
       "0           0           0           0           0      9          九  \n",
       "1           0           0           0           0      9          九  \n",
       "2           0           0           0           0      9          九  \n",
       "3           0           0           0           0      9          九  \n",
       "4           0           0           0           0      9          九  \n",
       "\n",
       "[5 rows x 4098 columns]"
      ]
     },
     "execution_count": 2,
     "metadata": {},
     "output_type": "execute_result"
    }
   ],
   "source": [
    "# Read the dataset\n",
    "ds = pd.read_csv(path)\n",
    "print(ds.shape)\n",
    "ds.head()"
   ]
  },
  {
   "cell_type": "code",
   "execution_count": 3,
   "metadata": {
    "execution": {
     "iopub.execute_input": "2023-10-05T05:43:56.150977Z",
     "iopub.status.busy": "2023-10-05T05:43:56.150209Z",
     "iopub.status.idle": "2023-10-05T05:43:56.539229Z",
     "shell.execute_reply": "2023-10-05T05:43:56.537627Z",
     "shell.execute_reply.started": "2023-10-05T05:43:56.150915Z"
    }
   },
   "outputs": [
    {
     "data": {
      "text/plain": [
       "((15000, 4096), (15000,), (15000,))"
      ]
     },
     "execution_count": 3,
     "metadata": {},
     "output_type": "execute_result"
    }
   ],
   "source": [
    "# the labels and the character cols\n",
    "labels_cols = ['label', 'character']\n",
    "# select only the images\n",
    "data = ds.drop(labels_cols, axis=1).values\n",
    "# select the labels and the characters\n",
    "labels = ds[labels_cols[0]].values\n",
    "characters = ds[labels_cols[1]].values\n",
    "\n",
    "data.shape, labels.shape, characters.shape"
   ]
  },
  {
   "cell_type": "markdown",
   "metadata": {},
   "source": [
    "#  Processing "
   ]
  },
  {
   "cell_type": "code",
   "execution_count": 4,
   "metadata": {
    "execution": {
     "iopub.execute_input": "2023-10-05T05:44:14.461424Z",
     "iopub.status.busy": "2023-10-05T05:44:14.460999Z",
     "iopub.status.idle": "2023-10-05T05:44:15.219204Z",
     "shell.execute_reply": "2023-10-05T05:44:15.217937Z",
     "shell.execute_reply.started": "2023-10-05T05:44:14.461386Z"
    }
   },
   "outputs": [
    {
     "data": {
      "image/png": "[encoded data removed]",
      "text/plain": [
       "<Figure size 1152x576 with 8 Axes>"
      ]
     },
     "metadata": {
      "needs_background": "light"
     },
     "output_type": "display_data"
    }
   ],
   "source": [
    "# to process the data and convert to 64x64 images\n",
    "# receives data\n",
    "def process_data(x):\n",
    "    images = [] # all the images\n",
    "    # is each row in x, each image\n",
    "    for img in x:\n",
    "        # reshape the flatten data\n",
    "        image = img.reshape(64,64,1)\n",
    "        images.append(image)\n",
    "    # return the images in an apropiate format\n",
    "    return np.array(images).astype('float32')/255\n",
    "\n",
    "# recieves labels\n",
    "def process_target(chars, num_classes):\n",
    "    target = [] # is the result\n",
    "    class_names = {} # other result\n",
    "    count = count_values(chars) # count the characters\n",
    "    ###### add the labels for the dict\n",
    "    for key, i in zip(count.keys(), range(num_classes)):\n",
    "        class_names[key] = i\n",
    "    ###### create the labels data, the numbers\n",
    "    labs = class_names.keys()\n",
    "    for char in chars:\n",
    "        pos = class_names[char] # position of the 1\n",
    "        row = []\n",
    "        for i in range(num_classes):# create the target [0,0,0...,1,...]\n",
    "            if pos != i:\n",
    "                row.append(0)\n",
    "            else:\n",
    "                row.append(1)\n",
    "        target.append(row)\n",
    "    return np.array(target).astype('float32'), class_names\n",
    "\n",
    "\n",
    "def count_values(arr):\n",
    "    dic = {}\n",
    "    for val in arr:\n",
    "        if val not in dic.keys():\n",
    "            dic[val] = 1\n",
    "        else:\n",
    "            dic[val] += 1\n",
    "    return dic\n",
    "\n",
    "# plot multiple images, preds is for the titles\n",
    "# preds must be like [[real, pred]]\n",
    "def plot_images(imgs, dims, figsize, title_size, preds=[]):\n",
    "    plt.figure(figsize=figsize)\n",
    "    for img, i, in zip(imgs, np.arange(imgs.shape[0])):\n",
    "        plt.subplot(dims[0], dims[1], i+1)\n",
    "        plt.imshow(np.squeeze(img), cmap='gray')\n",
    "        plt.axis('off')\n",
    "        title = f'Image {i+1}'\n",
    "        if preds != []:\n",
    "            title = f'Real: {preds[i][0]}, Pred: {preds[i][1]}'\n",
    "        plt.title(title, fontsize=title_size)\n",
    "    plt.show()\n",
    "    \n",
    "# these numbers are just to prove*\n",
    "sample_data = process_data(data[:8008:1001])\n",
    "plot_images(sample_data, dims=(2,4), figsize=(16,8), title_size=22)"
   ]
  },
  {
   "cell_type": "code",
   "execution_count": 5,
   "metadata": {
    "execution": {
     "iopub.execute_input": "2023-10-05T05:45:07.475336Z",
     "iopub.status.busy": "2023-10-05T05:45:07.474880Z",
     "iopub.status.idle": "2023-10-05T05:45:08.393045Z",
     "shell.execute_reply": "2023-10-05T05:45:08.391743Z",
     "shell.execute_reply.started": "2023-10-05T05:45:07.475261Z"
    }
   },
   "outputs": [
    {
     "data": {
      "text/plain": [
       "((15000, 64, 64, 1), dtype('float32'), (15000, 15), dtype('float32'))"
      ]
     },
     "execution_count": 5,
     "metadata": {},
     "output_type": "execute_result"
    }
   ],
   "source": [
    "# get the images from the df as arrays\n",
    "X = process_data(data)\n",
    "\n",
    "# and obtain the target data from the characters\n",
    "Y, class_names = process_target(characters, num_classes=15)\n",
    "\n",
    "X.shape, X.dtype, Y.shape, Y.dtype"
   ]
  },
  {
   "cell_type": "markdown",
   "metadata": {},
   "source": [
    "# Split the Data on train and test"
   ]
  },
  {
   "cell_type": "code",
   "execution_count": 6,
   "metadata": {
    "execution": {
     "iopub.execute_input": "2023-10-05T05:45:32.261716Z",
     "iopub.status.busy": "2023-10-05T05:45:32.261347Z",
     "iopub.status.idle": "2023-10-05T05:45:32.398637Z",
     "shell.execute_reply": "2023-10-05T05:45:32.397620Z",
     "shell.execute_reply.started": "2023-10-05T05:45:32.261683Z"
    }
   },
   "outputs": [
    {
     "data": {
      "text/plain": [
       "((13500, 64, 64, 1), (1500, 64, 64, 1))"
      ]
     },
     "execution_count": 6,
     "metadata": {},
     "output_type": "execute_result"
    }
   ],
   "source": [
    "# split the dataset in train and test. validation set will be included in the training, later\n",
    "x_train, x_test, y_train, y_test = train_test_split(\n",
    "    X, Y, test_size=.1, random_state=314, shuffle=True\n",
    ")\n",
    "\n",
    "x_train.shape, x_test.shape"
   ]
  },
  {
   "cell_type": "markdown",
   "metadata": {},
   "source": [
    "#  CNN model"
   ]
  },
  {
   "cell_type": "code",
   "execution_count": 8,
   "metadata": {
    "execution": {
     "iopub.execute_input": "2023-10-05T05:46:37.314803Z",
     "iopub.status.busy": "2023-10-05T05:46:37.314433Z",
     "iopub.status.idle": "2023-10-05T05:46:37.517866Z",
     "shell.execute_reply": "2023-10-05T05:46:37.516722Z",
     "shell.execute_reply.started": "2023-10-05T05:46:37.314772Z"
    }
   },
   "outputs": [],
   "source": [
    "# to reset the keras session\n",
    "#keras.backend.clear_session()\n",
    "\n",
    "input_shape = (64,64,1) # the dimension of the data\n",
    "num_classes = 15 # the number of classes\n",
    "\n",
    "cnn = Sequential([\n",
    "    # define the input shape with a layer\n",
    "    layers.InputLayer(input_shape=input_shape),\n",
    "\n",
    "    # convolutional part with relu and later pooling\n",
    "    layers.Conv2D(filters=32, kernel_size=5, activation='relu'),\n",
    "    layers.MaxPooling2D(pool_size=2),\n",
    "\n",
    "    # flatten the data, as it comes with (64,64,1) shape\n",
    "    layers.Flatten(),\n",
    "    \n",
    "    # dense part, with neurons\n",
    "    layers.Dense(256, activation='relu'),\n",
    "    layers.Dropout(rate=.3), # turn off random neurons in each step\n",
    "    layers.Dense(256, activation='relu'),\n",
    "    layers.Dropout(rate=.3), # it helps to prevent overfitting\n",
    "    layers.Dense(num_classes, activation='softmax')\n",
    "])\n",
    "\n",
    "# the last layer has multiple (15) neurons since the result we\n",
    "# want looks like the one in the cell above, each neuron provides\n",
    "# one of these numbers\n",
    "\n",
    "cnn.compile(\n",
    "    optimizer='adam',\n",
    "    loss='categorical_crossentropy',\n",
    "    metrics = ['accuracy'],\n",
    ")"
   ]
  },
  {
   "cell_type": "code",
   "execution_count": 16,
   "metadata": {
    "execution": {
     "iopub.execute_input": "2023-10-05T06:08:14.844481Z",
     "iopub.status.busy": "2023-10-05T06:08:14.843686Z",
     "iopub.status.idle": "2023-10-05T06:08:14.856415Z",
     "shell.execute_reply": "2023-10-05T06:08:14.855454Z",
     "shell.execute_reply.started": "2023-10-05T06:08:14.844431Z"
    }
   },
   "outputs": [
    {
     "name": "stdout",
     "output_type": "stream",
     "text": [
      "Model: \"sequential\"\n",
      "_________________________________________________________________\n",
      "Layer (type)                 Output Shape              Param #   \n",
      "=================================================================\n",
      "conv2d (Conv2D)              (None, 60, 60, 32)        832       \n",
      "_________________________________________________________________\n",
      "max_pooling2d (MaxPooling2D) (None, 30, 30, 32)        0         \n",
      "_________________________________________________________________\n",
      "flatten (Flatten)            (None, 28800)             0         \n",
      "_________________________________________________________________\n",
      "dense (Dense)                (None, 256)               7373056   \n",
      "_________________________________________________________________\n",
      "dropout (Dropout)            (None, 256)               0         \n",
      "_________________________________________________________________\n",
      "dense_1 (Dense)              (None, 256)               65792     \n",
      "_________________________________________________________________\n",
      "dropout_1 (Dropout)          (None, 256)               0         \n",
      "_________________________________________________________________\n",
      "dense_2 (Dense)              (None, 15)                3855      \n",
      "=================================================================\n",
      "Total params: 7,443,535\n",
      "Trainable params: 7,443,535\n",
      "Non-trainable params: 0\n",
      "_________________________________________________________________\n"
     ]
    }
   ],
   "source": [
    "cnn.summary()"
   ]
  },
  {
   "cell_type": "markdown",
   "metadata": {},
   "source": [
    "## Train the cnn"
   ]
  },
  {
   "cell_type": "code",
   "execution_count": 9,
   "metadata": {
    "execution": {
     "iopub.execute_input": "2023-10-05T05:47:10.664598Z",
     "iopub.status.busy": "2023-10-05T05:47:10.664168Z",
     "iopub.status.idle": "2023-10-05T05:54:08.468357Z",
     "shell.execute_reply": "2023-10-05T05:54:08.467420Z",
     "shell.execute_reply.started": "2023-10-05T05:47:10.664550Z"
    }
   },
   "outputs": [
    {
     "name": "stdout",
     "output_type": "stream",
     "text": [
      "Epoch 1/40\n",
      "190/190 [==============================] - 26s 131ms/step - loss: 1.9789 - accuracy: 0.3583 - val_loss: 0.6600 - val_accuracy: 0.7859\n",
      "Epoch 2/40\n",
      "190/190 [==============================] - 24s 127ms/step - loss: 0.6556 - accuracy: 0.7805 - val_loss: 0.3638 - val_accuracy: 0.8815\n",
      "Epoch 3/40\n",
      "190/190 [==============================] - 24s 129ms/step - loss: 0.3801 - accuracy: 0.8701 - val_loss: 0.2813 - val_accuracy: 0.9074\n",
      "Epoch 4/40\n",
      "190/190 [==============================] - 24s 128ms/step - loss: 0.2519 - accuracy: 0.9141 - val_loss: 0.2371 - val_accuracy: 0.9281\n",
      "Epoch 5/40\n",
      "190/190 [==============================] - 24s 127ms/step - loss: 0.1760 - accuracy: 0.9436 - val_loss: 0.1990 - val_accuracy: 0.9393\n",
      "Epoch 6/40\n",
      "190/190 [==============================] - 25s 130ms/step - loss: 0.1392 - accuracy: 0.9490 - val_loss: 0.2321 - val_accuracy: 0.9296\n",
      "Epoch 7/40\n",
      "190/190 [==============================] - 25s 133ms/step - loss: 0.1057 - accuracy: 0.9635 - val_loss: 0.1757 - val_accuracy: 0.9481\n",
      "Epoch 8/40\n",
      "190/190 [==============================] - 25s 129ms/step - loss: 0.0786 - accuracy: 0.9741 - val_loss: 0.1898 - val_accuracy: 0.9415\n",
      "Epoch 9/40\n",
      "190/190 [==============================] - 25s 130ms/step - loss: 0.0702 - accuracy: 0.9797 - val_loss: 0.1906 - val_accuracy: 0.9467\n",
      "Epoch 10/40\n",
      "190/190 [==============================] - 25s 129ms/step - loss: 0.0721 - accuracy: 0.9759 - val_loss: 0.1731 - val_accuracy: 0.9541\n",
      "Epoch 11/40\n",
      "190/190 [==============================] - 23s 123ms/step - loss: 0.0595 - accuracy: 0.9798 - val_loss: 0.1751 - val_accuracy: 0.9511\n",
      "Epoch 12/40\n",
      "190/190 [==============================] - 25s 132ms/step - loss: 0.0534 - accuracy: 0.9831 - val_loss: 0.1875 - val_accuracy: 0.9585\n",
      "Epoch 13/40\n",
      "190/190 [==============================] - 25s 129ms/step - loss: 0.0410 - accuracy: 0.9864 - val_loss: 0.2000 - val_accuracy: 0.9519\n",
      "Epoch 14/40\n",
      "190/190 [==============================] - 25s 130ms/step - loss: 0.0460 - accuracy: 0.9851 - val_loss: 0.1936 - val_accuracy: 0.9526\n",
      "Epoch 15/40\n",
      "190/190 [==============================] - 24s 127ms/step - loss: 0.0441 - accuracy: 0.9855 - val_loss: 0.2091 - val_accuracy: 0.9526\n",
      "Epoch 16/40\n",
      "190/190 [==============================] - 24s 129ms/step - loss: 0.0342 - accuracy: 0.9890 - val_loss: 0.2213 - val_accuracy: 0.9474\n",
      "Epoch 17/40\n",
      "190/190 [==============================] - 25s 129ms/step - loss: 0.0322 - accuracy: 0.9913 - val_loss: 0.2187 - val_accuracy: 0.9526\n"
     ]
    }
   ],
   "source": [
    "# as the model performance increases faster\n",
    "# it might be good to use an early stopping\n",
    "\n",
    "early_stopping = EarlyStopping(\n",
    "    min_delta=.005, # minimum performance increase\n",
    "    patience=10, # epochs until the stop\n",
    "    restore_best_weights=True\n",
    ")\n",
    "\n",
    "cnn_hist = cnn.fit(\n",
    "    x_train,\n",
    "    y_train,\n",
    "    batch_size=64,\n",
    "    epochs=40,\n",
    "    validation_split=.1,# as there's no val data\n",
    "    callbacks=[early_stopping]\n",
    ")"
   ]
  },
  {
   "cell_type": "markdown",
   "metadata": {},
   "source": [
    "#   results"
   ]
  },
  {
   "cell_type": "code",
   "execution_count": 13,
   "metadata": {
    "execution": {
     "iopub.execute_input": "2023-10-05T06:05:44.021784Z",
     "iopub.status.busy": "2023-10-05T06:05:44.021398Z",
     "iopub.status.idle": "2023-10-05T06:05:44.405647Z",
     "shell.execute_reply": "2023-10-05T06:05:44.404206Z",
     "shell.execute_reply.started": "2023-10-05T06:05:44.021754Z"
    }
   },
   "outputs": [
    {
     "data": {
      "image/png": "[encoded data removed]",
      "text/plain": [
       "<Figure size 1080x720 with 2 Axes>"
      ]
     },
     "metadata": {
      "needs_background": "light"
     },
     "output_type": "display_data"
    }
   ],
   "source": [
    "plt.figure(figsize=(15, 10))\n",
    "\n",
    "# plot the loss function\n",
    "plt.subplot(1,2,1)\n",
    "# loss functions\n",
    "plt.plot(cnn_hist.history['loss'], label='cnn train')\n",
    "plt.plot(cnn_hist.history['val_loss'], label='cnn validation')\n",
    "plt.title('Loss Function')\n",
    "plt.grid(True)\n",
    "plt.legend()\n",
    "\n",
    "# and the accuracy\n",
    "plt.subplot(1,2,2)\n",
    "plt.plot(cnn_hist.history['accuracy'], label='cnn train')\n",
    "plt.plot(cnn_hist.history['val_accuracy'], label='cnn test')\n",
    "plt.grid(True)\n",
    "plt.title('Accuracy')\n",
    "plt.legend()\n",
    "\n",
    "plt.show()"
   ]
  },
  {
   "cell_type": "code",
   "execution_count": 14,
   "metadata": {
    "execution": {
     "iopub.execute_input": "2023-10-05T06:06:03.327216Z",
     "iopub.status.busy": "2023-10-05T06:06:03.326851Z",
     "iopub.status.idle": "2023-10-05T06:06:04.313388Z",
     "shell.execute_reply": "2023-10-05T06:06:04.312513Z",
     "shell.execute_reply.started": "2023-10-05T06:06:03.327184Z"
    }
   },
   "outputs": [
    {
     "name": "stdout",
     "output_type": "stream",
     "text": [
      "24/24 [==============================] - 1s 38ms/step - loss: 0.1635 - accuracy: 0.9540\n",
      "=> CNN Results\n",
      "test loss, test acc: [0.16351771354675293, 0.9539999961853027]\n",
      "\n",
      "=> NN Results\n"
     ]
    }
   ],
   "source": [
    "cnn_results = cnn.evaluate(x_test, y_test, batch_size=64);\n",
    "\n",
    "print('=> CNN Results')\n",
    "print(\"test loss, test acc:\", cnn_results)\n"
   ]
  }
 ],
 "metadata": {
  "kernelspec": {
   "display_name": "Python 3 (ipykernel)",
   "language": "python",
   "name": "python3"
  },
  "language_info": {
   "codemirror_mode": {
    "name": "ipython",
    "version": 3
   },
   "file_extension": ".py",
   "mimetype": "text/x-python",
   "name": "python",
   "nbconvert_exporter": "python",
   "pygments_lexer": "ipython3",
   "version": "3.11.3"
  }
 },
 "nbformat": 4,
 "nbformat_minor": 4
}
